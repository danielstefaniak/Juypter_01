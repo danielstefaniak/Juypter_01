{
 "cells": [
  {
   "cell_type": "markdown",
   "metadata": {
    "extensions": {
     "jupyter_dashboards": {
      "version": 1,
      "views": {
       "grid_default": {
        "hidden": true
       },
       "report_default": {
        "hidden": true
       }
      }
     }
    },
    "slideshow": {
     "slide_type": "slide"
    }
   },
   "source": [
    "# Jupyter Start"
   ]
  },
  {
   "cell_type": "markdown",
   "metadata": {},
   "source": [
    "### Nutzung von Jupyternotebooks in Jupyter Notebook und Jupyterlab"
   ]
  },
  {
   "cell_type": "markdown",
   "metadata": {},
   "source": [
    "_Jupyter Notebook_ ist eine Open-Source-Webanwendung, mit der Codes und Dokumente erstellt und\n",
    "gemeinsam genutzt werden können. Es bietet eine Umgebung, in der Code dokumentiert, ausgeführt\n",
    "und das Ergebnis anzeigt werden kann. Es lassen sich somit Daten visualisieren und die Ergebnisse\n",
    "anzeigen ohne die Umgebung zu verlassen. Dies macht es zu einem praktischen Werkzeug für das\n",
    "Visualisieren von Daten. Die Besonderheit liegt darin, dass der Code in unabhängige Zellen geschrieben\n",
    "wird, die einzeln ausgeführt werden können. Dadurch kann der Benutzer einen bestimmten Codeblock\n",
    "in einem Projekt testen, ohne den Code vom Start des Skripts aus ausführen zu müssen. Neben _Python_\n",
    "erlaubt das _jupyter notebook_ auch andere Sprachen wie _R, SQL, Julia und Scala_ auszuführen.\n",
    "Wird ein neues _jupyter notebook_ angelegt erscheint eine erste Eingabezelle, typisch für das _notebook_.\n",
    "\n",
    "Weitere Informationen unter:  \n",
    "http://jupyter.org/.\n",
    "\n",
    "\n",
    "_JupyterLab_ ist eine interaktive Entwicklungsumgebung für die Arbeit mit _Notebooks_, Code und Daten. Am wichtigsten ist, dass _JupyterLab Jupyter-Notebooks_ vollständig unterstützt. Darüber hinaus können Sie mit _JupyterLab_ Texteditoren, Terminals, Datendatei-Viewer und andere benutzerdefinierte Komponenten neben _notebooks_ in einem Arbeitsbereich mit Registerkarten verwenden."
   ]
  },
  {
   "cell_type": "markdown",
   "metadata": {},
   "source": [
    "### Umschalten zwischen Jupyterlab und Jupyter Notebook"
   ]
  },
  {
   "cell_type": "markdown",
   "metadata": {},
   "source": [
    "Die bereitgestelle Programmierumgebung öffnet standardmäßig im _Notebook_-Modus. Es kann jedoch zu jederzeit zwischen dem _Notebook_ und _Jupyterlab_ gewechselt werden.  \n",
    "In der Adresszeile des Browsers wird zunächst eine Adresse im folgenden Aufbau angezeigt:  \n",
    "[https://vpt01.surfrox.de/user/benutzername/tree?](https://svt1920.threecomp.com/user/test1/tree?)  \n",
    "Wird im link das \"tree?\" gegen \"lab\" ersetzt, schaltet die Umgebung sofort in die _Jupyterlab_-Umgebung um:  \n",
    "[https://vpt01.surfrox.de.threecomp.com/user/benutzername/lab](https://svt1920.threecomp.com/user/test1/lab)  "
   ]
  },
  {
   "cell_type": "markdown",
   "metadata": {},
   "source": [
    "## Aufbau von Jupyter"
   ]
  },
  {
   "cell_type": "markdown",
   "metadata": {},
   "source": [
    "### Das Dashboard"
   ]
  },
  {
   "cell_type": "markdown",
   "metadata": {},
   "source": [
    "Beim ersten Start des Notebook-Servers wird ein Browser zum Dashboard des Notebooks geöffnet. Das Dashboard dient als Startseite für das Notebook. Sein Hauptzweck ist es, den Teil des Dateisystems anzuzeigen, der für den Benutzer zugänglich ist, und einen Überblick über die laufenden Kernel und Terminals zu geben.\n",
    "\n",
    "<img src=\"data/dashboard.jpg\" />"
   ]
  },
  {
   "cell_type": "markdown",
   "metadata": {},
   "source": [
    "#### File Tab"
   ]
  },
  {
   "cell_type": "markdown",
   "metadata": {},
   "source": [
    "Die Registerkarte **`File`** bietet eine interaktive Ansicht des Teils des Dateisystems, der für den Benutzer zugänglich ist. Diese wird typischerweise durch das Verzeichnis begründet, in dem der Notebook-Server gestartet wurde.\n",
    "\n",
    "Am Anfang der Dateiliste werden anklickbare Breadcrumbs des aktuellen Verzeichnisses angezeigt. Es ist möglich, durch Anklicken dieser Breadcrumbs oder der in der Notebookliste angezeigten Verzeichnisse durch das Dateisystem zu navigieren.\n",
    "\n",
    "Ein neues Notebook kann erstellt werden, indem Sie auf die Dropdown-Schaltfläche **`New Notebook`** oben in der Liste klicken und den gewünschten Kernel auswählen.\n",
    "\n",
    "Notebooks können auch in das aktuelle Verzeichnis hochgeladen werden, indem Sie die Schaltfläche **`Upload`** verwenden.\n",
    "\n",
    "<img src=\"data/file_tab.jpg\" />"
   ]
  },
  {
   "cell_type": "markdown",
   "metadata": {},
   "source": [
    "#### Running Tab"
   ]
  },
  {
   "cell_type": "markdown",
   "metadata": {},
   "source": [
    "Die Registerkarte Running zeigt die aktuell laufenden Notebooks an, die dem Server bekannt sind. Diese Ansicht bietet eine komfortable Möglichkeit, Notebooks zu verfolgen, die während einer lang laufenden Notebookserver-Sitzung gestartet wurden.\n",
    "\n",
    "Jedes laufende Notebook hat eine orangefarbene **`Shutdown-Taste`**, mit der der zugehörige Kernel heruntergefahren werden kann. Das Schließen der Seite des Notebooks reicht nicht aus, um einen Kernel herunterzufahren.\n",
    "\n",
    "Laufende Terminals sind ebenfalls aufgeführt.\n",
    "\n",
    "\n",
    "<img src=\"data/running_tab.jpg\" />"
   ]
  },
  {
   "cell_type": "markdown",
   "metadata": {},
   "source": [
    "#### Clusters Tab"
   ]
  },
  {
   "cell_type": "markdown",
   "metadata": {},
   "source": [
    "Hier wird eine Übersicht über parallel arbeitende Cluster aufgeführt, sofern _Ipython Parallel Clusters_ installiert ist."
   ]
  },
  {
   "cell_type": "markdown",
   "metadata": {},
   "source": [
    "#### Conda Tab"
   ]
  },
  {
   "cell_type": "markdown",
   "metadata": {},
   "source": [
    "Durch die Installation von _conda_ erscheint diese Registerkarte, diese erlaubt die virtuellen Umgebungen aus _jupyter_ heraus zu verwalten."
   ]
  },
  {
   "cell_type": "markdown",
   "metadata": {},
   "source": [
    "### Das Notebook"
   ]
  },
  {
   "cell_type": "markdown",
   "metadata": {},
   "source": [
    "Wenn ein Notebook geöffnet wird, wird eine neue Browser-Registerkarte erstellt, die die Benutzeroberfläche (UI) des Notebooks anzeigt. Diese Benutzeroberfläche ermöglicht die interaktive Bearbeitung und Ausführung des Notebook-Dokuments.\n",
    "\n",
    "Ein neues Notebook kann aus dem Dashboard erstellt werden, indem Sie auf die Registerkarte **`Dateien`** klicken, gefolgt von der Dropdown-Schaltfläche **`Neu`** und dann die gewünschte Sprache für das Notebook auswählen.\n",
    "\n",
    "Eine interaktive Tour durch die Notebook-Oberfläche kann gestartet werden, indem Sie **`Hilfe -> User Interface Tour`** aus der Notebook-Menüleiste auswählen."
   ]
  },
  {
   "cell_type": "markdown",
   "metadata": {},
   "source": [
    "#### Header"
   ]
  },
  {
   "cell_type": "markdown",
   "metadata": {},
   "source": [
    "Oben im Notebook-Dokument befindet sich eine Kopfzeile, die den Titel des Notebooks, eine Menüleiste und eine Symbolleiste enthält. Diese Kopfzeile bleibt oben auf dem Bildschirm fixiert, auch wenn der Körper des Notebooks gescrollt wird. Der Titel kann direkt bearbeitet werden (was die Notebook-Datei umbenennt), und die Menü- und Symbolleiste enthält eine Vielzahl von Aktionen, die die Navigation und die Dokumentenstruktur des Notebooks steuern.\n",
    "\n",
    "<img src=\"data/header.jpg\" />"
   ]
  },
  {
   "cell_type": "markdown",
   "metadata": {},
   "source": [
    "#### Body"
   ]
  },
  {
   "cell_type": "markdown",
   "metadata": {},
   "source": [
    "Der Body eines Notebooks besteht aus Zellen. Jede Zelle enthält entweder Markdown, Codeeingabe, Codeausgabe oder Rohtext. Zellen können in beliebiger Reihenfolge eingefügt und nach Belieben bearbeitet werden.\n",
    "\n",
    "- **Markdown Cells** - Diese werden verwendet, um eine formatierte \"Erzählung\" um den Code im Dokument herum zu erstellen. Der Großteil dieses Notebooks besteht aus Markdown Cells.\n",
    "\n",
    "- **Code Cells** - Diese werden verwendet, um den Berechnungscode im Dokument zu definieren. Diese gibt es in zwei Variationen:  die *Eingabezelle*, in der der Benutzer den auszuführenden Code eingibt, und die *Ausgabezelle*, die die Darstellung des ausgeführten Codes wiedergibt. Je nach Code kann diese Darstellung ein einfacher Einzelwert oder etwas Komplexeres wie ein Plot oder ein interaktives Widget sein.\n",
    "\n",
    "- **Raw Cells** - Diese werden verwendet, wenn Text in Rohform, ohne Ausführung oder Transformation, eingebunden werden soll."
   ]
  },
  {
   "cell_type": "markdown",
   "metadata": {},
   "source": [
    "#### Modalität"
   ]
  },
  {
   "cell_type": "markdown",
   "metadata": {},
   "source": [
    "Die UI des Notebooks ist *modal*. Das bedeutet, dass die Tastaturbefehle abhängig vom aktuellen Modus sind. Die beiden Modi des Notebooks sind: **edit** und **command**.\n",
    "\n",
    "**Edit mode** wird mit einem grünen Rahmen angedeutet. Befindet sich die Zelle in diesem Modus, so kann wie in einem herkömmlichen Texteditor Text eingefügt werden.\n",
    "\n",
    "<img src=\"data/edit_mode.jpg\">\n",
    "\n",
    "**Command mode** wird mit einem grauen Rahmen und blauem Balken gekennzeichent. Ib diesem Modus kann die Struktur des Notebooks insgesamt verändert werden, aber der Text in einzelnen Zellen kann nicht geändert werden. Am wichtigsten ist, dass die Tastatur auf eine Reihe von Tastenkombinationen reagiert, um Notebook- und Zellaktionen effizient durchzuführen. Wenn Sie beispielsweise **`c`** im Befehlsmodus drücken, wird die aktuelle Zelle kopiert; es ist keine Tastenkombination erforderlich.\n",
    "\n",
    "<img src=\"data/command_mode.jpg\">"
   ]
  },
  {
   "cell_type": "markdown",
   "metadata": {},
   "source": [
    "#### Maus-Navigation\n",
    "\n",
    "Das erste Konzept der mausbasierten Navigation ist, dass **Zellen durch Anklicken ausgewählt werden können.** Die aktuell ausgewählte Zelle wird mit einem grauen oder grünen Rand angezeigt, je nachdem, ob sich das Notebook im Bearbeitungs- oder Befehlsmodus befindet. Wenn Sie innerhalb des Editorbereichs einer Zelle klicken, gelangen Sie in den Bearbeitungsmodus. Wenn Sie auf die Eingabeaufforderung oder den Ausgabebereich einer Zelle klicken, wird der Befehlsmodus aktiviert.\n",
    "\n",
    "Das zweite Konzept bei der mausbasierten Navigation ist, dass **Zellaktionen normalerweise für die aktuell ausgewählte Zelle** gelten. Um den Code beispielsweise in einer Zelle auszuführen, markieren Sie ihn und klicken Sie dann auf den Button <button class='btn btn-default btn-xs'><i class=\"fa fa-play icon-play\"></i></button> in der Symbolleiste oder den Menüpunkt **`Cell -> Run`**. Um eine Zelle zu kopieren, markieren Sie sie und klicken Sie dann auf die Schaltfläche <button class='btn btn-default btn-xs'><i class=\"fa fa-copy icon-copy\"></i></button> in der Symbolleiste oder den Menüpunkt **`Edit -> Copy`**. Mit diesem einfachen Muster sollte es möglich sein, fast jede Aktion mit der Maus auszuführen.\n",
    "\n",
    "Markdown-Zellen haben einen anderen Zustand, der mit der Maus geändert werden kann. Diese Zellen können entweder gerendert oder nicht gerendert werden. Wenn sie gerendert werden, wird eine formatierte Darstellung des Inhalts der Zelle präsentiert. Wenn sie nicht gerendert werden, wird die Rohtextquelle der Zelle angezeigt. Um die ausgewählte Zelle mit der Maus darzustellen, klicken Sie auf den Button <button class='btn btn-default btn-xs'><i class=\"fa fa-play icon-play\"></i></button> in der Symbolleiste oder den Menüpunkt **`Cell -> Run`**. Um die ausgewählte Zelle wieder zu \"entrendern\", doppelklicken Sie auf die Zelle."
   ]
  },
  {
   "cell_type": "markdown",
   "metadata": {},
   "source": [
    "#### Tastatur-Navigation\n",
    "\n",
    "Der modale Charakter wurde für die Nutzung mittels Tastatur optimert. Daher gibt es für die beiden Modi unterschiedliche Shortcuts.\n",
    "\n",
    "Die wichtigsten Shortcuts sind **`Enter`**, das den edit-Modus aktiviert, und **`Esc`**, das den command-Modus aktiviert.\n",
    "\n",
    "Im edit-Modus ist der größte Teil der Tastatur für die Eingabe vorgesehen. Daher gibt es im edit-Modus relativ wenige Tastenkombinationen. Im command-Modus steht die gesamte Tastatur für Tastenkombinationen zur Verfügung, so dass es viel mehr Möglichkeiten gibt.\n",
    "\n",
    "Hier sind einige Shortcuts aufgeführt.\n",
    "\n",
    "<img src=\"data/jupyter_cheat_sheet.JPG\">\n",
    "\n",
    "Die wichtigsten Shortcuts sind\n",
    "\n",
    "- Basisnavigation: **`enter`**, **`shift-enter`**, **`up/k`**, **`down/j`**\n",
    "- Speichern: **`s`**\n",
    "- Ändern der Zellarten: **`y`**, **`m`**, **`1-6`**, **`r`**\n",
    "- Erstellen von Zellen: **`a`**, **`b`**\n",
    "- Bearbeiten von Zellen: **`x`**, **`c`**, **`v`**, **`d`**, **`z`**"
   ]
  },
  {
   "cell_type": "code",
   "execution_count": null,
   "metadata": {},
   "outputs": [],
   "source": []
  }
 ],
 "metadata": {
  "anaconda-cloud": {},
  "extensions": {
   "jupyter_dashboards": {
    "activeView": "grid_default",
    "version": 1,
    "views": {
     "grid_default": {
      "cellMargin": 10,
      "defaultCellHeight": 20,
      "maxColumns": 12,
      "name": "grid",
      "type": "grid"
     },
     "report_default": {
      "name": "report",
      "type": "report"
     }
    }
   }
  },
  "kernelspec": {
   "display_name": "Python 3",
   "language": "python",
   "name": "python3"
  },
  "language_info": {
   "codemirror_mode": {
    "name": "ipython",
    "version": 3
   },
   "file_extension": ".py",
   "mimetype": "text/x-python",
   "name": "python",
   "nbconvert_exporter": "python",
   "pygments_lexer": "ipython3",
   "version": "3.6.5"
  },
  "nbpresent": {
   "slides": {
    "0155f1a1-f34f-4687-9d18-5d7342ce0ecf": {
     "id": "0155f1a1-f34f-4687-9d18-5d7342ce0ecf",
     "prev": "a67a655f-9f25-42c5-81d6-773cffa7f08c",
     "regions": {
      "a3fa56b1-2636-4e09-9abd-c6b043aa2125": {
       "attrs": {
        "height": 0.8,
        "width": 0.8,
        "x": 0.1,
        "y": 0.1
       },
       "content": {
        "cell": "ff42c4c4-7f22-41df-9d57-1d6f69663248",
        "part": "whole"
       },
       "id": "a3fa56b1-2636-4e09-9abd-c6b043aa2125"
      }
     }
    },
    "01a073ec-419a-49e3-a0b1-5d2334e4e745": {
     "id": "01a073ec-419a-49e3-a0b1-5d2334e4e745",
     "prev": "e93a7535-67e2-4e2f-95c3-9d659b11594d",
     "regions": {
      "9cd5bf2f-4c0f-40ba-8f4d-7fb3c7d01fec": {
       "attrs": {
        "height": 0.8,
        "width": 0.8,
        "x": 0.1,
        "y": 0.1
       },
       "content": {
        "cell": "a1d0dcaf-853a-4599-9fc9-80660703502f",
        "part": "whole"
       },
       "id": "9cd5bf2f-4c0f-40ba-8f4d-7fb3c7d01fec"
      }
     }
    },
    "01d5d676-ff21-4f46-8bbd-91d1fc7544bf": {
     "id": "01d5d676-ff21-4f46-8bbd-91d1fc7544bf",
     "prev": "a6f30fb6-530f-44d4-85b4-a883cf75058c",
     "regions": {
      "16a0aba1-a4de-4c89-83ff-405f3375173d": {
       "attrs": {
        "height": 0.8,
        "width": 0.8,
        "x": 0.1,
        "y": 0.1
       },
       "content": {
        "cell": "5098e586-071c-4789-a781-1c81a4f1e529",
        "part": "whole"
       },
       "id": "16a0aba1-a4de-4c89-83ff-405f3375173d"
      }
     }
    },
    "04818eef-c160-4549-9bcb-8db3d659af1b": {
     "id": "04818eef-c160-4549-9bcb-8db3d659af1b",
     "prev": "b5676b51-38c9-4745-b5bd-a588c375b3e9",
     "regions": {
      "2a36ec14-4c86-4015-8877-530819a4a906": {
       "attrs": {
        "height": 0.8,
        "width": 0.8,
        "x": 0.1,
        "y": 0.1
       },
       "content": {
        "cell": "592ea40b-7864-404a-ac6c-4bf730e92a6c",
        "part": "whole"
       },
       "id": "2a36ec14-4c86-4015-8877-530819a4a906"
      }
     }
    },
    "07f8fc69-64e4-4475-9dc1-7a59e9c7dc7a": {
     "id": "07f8fc69-64e4-4475-9dc1-7a59e9c7dc7a",
     "prev": "4497e1d8-5e24-45e4-9c3b-8123a572a944",
     "regions": {
      "4c8cd1a9-42d0-47ae-85b8-28f3a3c15410": {
       "attrs": {
        "height": 0.8,
        "width": 0.8,
        "x": 0.1,
        "y": 0.1
       },
       "content": {
        "cell": "aa31b070-ee69-4201-bd32-c05e51b35c1f",
        "part": "whole"
       },
       "id": "4c8cd1a9-42d0-47ae-85b8-28f3a3c15410"
      }
     }
    },
    "08c388f5-7c65-41d9-ab2d-d59c41fc263f": {
     "id": "08c388f5-7c65-41d9-ab2d-d59c41fc263f",
     "prev": "7f28cfe0-f83f-4f7a-be62-8ca8998e199e",
     "regions": {
      "cf2d4c7c-9758-435c-afb9-8c4e4a21d796": {
       "attrs": {
        "height": 0.8,
        "width": 0.8,
        "x": 0.1,
        "y": 0.1
       },
       "content": {
        "cell": "f4c910f0-b1a5-4086-aaa3-b83a1ac542b9",
        "part": "whole"
       },
       "id": "cf2d4c7c-9758-435c-afb9-8c4e4a21d796"
      }
     }
    },
    "09c573fa-01a5-4cc9-ba20-894961b37ec2": {
     "id": "09c573fa-01a5-4cc9-ba20-894961b37ec2",
     "prev": "b9740779-0ce0-44a1-9566-cf8878d8ca32",
     "regions": {
      "71660f52-53a1-48b2-9901-63bc68fdb39f": {
       "attrs": {
        "height": 0.8,
        "width": 0.8,
        "x": 0.1,
        "y": 0.1
       },
       "content": {
        "cell": "8c838f2c-4e7a-4af2-99ed-bd9eeff03cc9",
        "part": "whole"
       },
       "id": "71660f52-53a1-48b2-9901-63bc68fdb39f"
      }
     }
    },
    "0ae99d25-5f65-42f5-a9ec-e8ca766e544b": {
     "id": "0ae99d25-5f65-42f5-a9ec-e8ca766e544b",
     "prev": "6b7e26f1-fe49-44db-815d-44541fc36da3",
     "regions": {
      "429879da-be05-404b-8631-e75fcc68a164": {
       "attrs": {
        "height": 0.8,
        "width": 0.8,
        "x": 0.1,
        "y": 0.1
       },
       "content": {
        "cell": "c24b4158-1ef0-45b2-b0fa-251819ada13c",
        "part": "whole"
       },
       "id": "429879da-be05-404b-8631-e75fcc68a164"
      }
     }
    },
    "0c83b168-453d-4b60-9090-45b2144c1fc8": {
     "id": "0c83b168-453d-4b60-9090-45b2144c1fc8",
     "prev": "85143dc4-0ba0-4dde-bc8b-6f2720748fe7",
     "regions": {
      "d2e6e6c4-ada4-4190-a800-5a4d713ace7a": {
       "attrs": {
        "height": 0.8,
        "width": 0.8,
        "x": 0.1,
        "y": 0.1
       },
       "content": {
        "cell": "f4b23ebf-eb39-42d4-97a9-115fe473cea8",
        "part": "whole"
       },
       "id": "d2e6e6c4-ada4-4190-a800-5a4d713ace7a"
      }
     }
    },
    "0da60b82-c07c-4004-a84e-ff42bb787b9d": {
     "id": "0da60b82-c07c-4004-a84e-ff42bb787b9d",
     "prev": "bc89e020-7d42-4677-a2ed-cd664455f521",
     "regions": {
      "af6f6f37-973f-4e87-a11b-f0eeeadc8dcf": {
       "attrs": {
        "height": 0.8,
        "width": 0.8,
        "x": 0.1,
        "y": 0.1
       },
       "content": {
        "cell": "c8b50349-b503-4303-8c5e-65c4de48ab72",
        "part": "whole"
       },
       "id": "af6f6f37-973f-4e87-a11b-f0eeeadc8dcf"
      }
     }
    },
    "0dc74fe2-c06e-43b7-a926-fc92a1114752": {
     "id": "0dc74fe2-c06e-43b7-a926-fc92a1114752",
     "prev": "4fdaa27e-b9d4-4280-aa71-9e663e8d997c",
     "regions": {
      "d2a55afa-845c-4b9e-b892-06d13b7abd30": {
       "attrs": {
        "height": 0.8,
        "width": 0.8,
        "x": 0.1,
        "y": 0.1
       },
       "content": {
        "cell": "e5a8b13d-4fed-49e1-ad8c-0cfe863ce4a9",
        "part": "whole"
       },
       "id": "d2a55afa-845c-4b9e-b892-06d13b7abd30"
      }
     }
    },
    "0e4fca0d-f2e6-4f93-b9eb-b9e74a3c097f": {
     "id": "0e4fca0d-f2e6-4f93-b9eb-b9e74a3c097f",
     "prev": null,
     "regions": {
      "26e290b7-3be2-4ef3-bbbd-289e48f2741d": {
       "attrs": {
        "height": 0.8,
        "width": 0.8,
        "x": 0.1,
        "y": 0.1
       },
       "content": {
        "cell": "c5f90743-7129-4051-a4f4-bc22f3f0c933",
        "part": "whole"
       },
       "id": "26e290b7-3be2-4ef3-bbbd-289e48f2741d"
      }
     }
    },
    "10095c10-5d61-4442-9e07-00817f805824": {
     "id": "10095c10-5d61-4442-9e07-00817f805824",
     "prev": "3ef01c2f-6f2a-454d-97fc-72d8dea77e81",
     "regions": {
      "16f3c3bb-a739-48a1-a6dd-b2a11ad9617b": {
       "attrs": {
        "height": 0.8,
        "width": 0.8,
        "x": 0.1,
        "y": 0.1
       },
       "content": {
        "cell": "ba6dcb9a-3fcb-4aa3-a8ad-3afd8d664502",
        "part": "whole"
       },
       "id": "16f3c3bb-a739-48a1-a6dd-b2a11ad9617b"
      }
     }
    },
    "1488b5ab-1e5a-4752-be1e-73cc6606e788": {
     "id": "1488b5ab-1e5a-4752-be1e-73cc6606e788",
     "prev": "3afaae86-651b-441d-83fa-00e92e6f4b74",
     "regions": {
      "ff0b94b7-bf6a-4413-95da-040c626c2bc8": {
       "attrs": {
        "height": 0.8,
        "width": 0.8,
        "x": 0.1,
        "y": 0.1
       },
       "content": {
        "cell": "aef3f6f8-9a90-46ba-ab91-bf7b1338b8f5",
        "part": "whole"
       },
       "id": "ff0b94b7-bf6a-4413-95da-040c626c2bc8"
      }
     }
    },
    "15c6ab82-2d6c-4669-9b9a-0e62669fd083": {
     "id": "15c6ab82-2d6c-4669-9b9a-0e62669fd083",
     "prev": "10095c10-5d61-4442-9e07-00817f805824",
     "regions": {
      "d3f9542b-9679-4c2b-ae44-d1bf4b611469": {
       "attrs": {
        "height": 0.8,
        "width": 0.8,
        "x": 0.1,
        "y": 0.1
       },
       "content": {
        "cell": "c600a6eb-bcba-4d88-8d56-35eac044497a",
        "part": "whole"
       },
       "id": "d3f9542b-9679-4c2b-ae44-d1bf4b611469"
      }
     }
    },
    "17d9e2b7-66fd-4518-a47e-b7c0b74459ee": {
     "id": "17d9e2b7-66fd-4518-a47e-b7c0b74459ee",
     "prev": "01d5d676-ff21-4f46-8bbd-91d1fc7544bf",
     "regions": {
      "4e804ee0-43cb-4369-ac31-253f36c1a95a": {
       "attrs": {
        "height": 0.8,
        "width": 0.8,
        "x": 0.1,
        "y": 0.1
       },
       "content": {
        "cell": "c409a33c-7962-4d31-9426-e731f5d819bd",
        "part": "whole"
       },
       "id": "4e804ee0-43cb-4369-ac31-253f36c1a95a"
      }
     }
    },
    "18e56060-1db0-4cd3-8fc5-d16c9f1a6a04": {
     "id": "18e56060-1db0-4cd3-8fc5-d16c9f1a6a04",
     "prev": "8dec4b2a-b742-47ed-bf29-ef60504292b2",
     "regions": {
      "3272970c-da55-4c4a-b849-eb18e7da703e": {
       "attrs": {
        "height": 0.8,
        "width": 0.8,
        "x": 0.1,
        "y": 0.1
       },
       "content": {
        "cell": "aff37955-633d-4e5d-af25-acc140e6cfb4",
        "part": "whole"
       },
       "id": "3272970c-da55-4c4a-b849-eb18e7da703e"
      }
     }
    },
    "1acd3518-0233-479e-b087-336024826405": {
     "id": "1acd3518-0233-479e-b087-336024826405",
     "prev": "a1e6663b-7876-46a2-8915-8ba637db9cdd",
     "regions": {
      "bbb68cae-5d5f-4b76-bddb-327ebd9f7654": {
       "attrs": {
        "height": 0.8,
        "width": 0.8,
        "x": 0.1,
        "y": 0.1
       },
       "content": {
        "cell": "ac3f1c12-cb18-4c35-ad51-58c6f6d0f8ec",
        "part": "whole"
       },
       "id": "bbb68cae-5d5f-4b76-bddb-327ebd9f7654"
      }
     }
    },
    "1c5b99d7-ac32-42d4-850a-c29990eefed2": {
     "id": "1c5b99d7-ac32-42d4-850a-c29990eefed2",
     "prev": "17d9e2b7-66fd-4518-a47e-b7c0b74459ee",
     "regions": {
      "2893287f-c8b5-4372-9519-dfeceab13707": {
       "attrs": {
        "height": 0.8,
        "width": 0.8,
        "x": 0.1,
        "y": 0.1
       },
       "content": {
        "cell": "d6c66824-d3ce-4109-b3f4-feea870b51c6",
        "part": "whole"
       },
       "id": "2893287f-c8b5-4372-9519-dfeceab13707"
      }
     }
    },
    "216311e8-9895-4eef-ba32-2ca3eb957b5f": {
     "id": "216311e8-9895-4eef-ba32-2ca3eb957b5f",
     "prev": "0c83b168-453d-4b60-9090-45b2144c1fc8",
     "regions": {
      "c5ab780c-4236-4e26-a245-34e5eec7837d": {
       "attrs": {
        "height": 0.8,
        "width": 0.8,
        "x": 0.1,
        "y": 0.1
       },
       "content": {
        "cell": "c26fe27d-ef6b-4dd5-8adf-d7b641c711cd",
        "part": "whole"
       },
       "id": "c5ab780c-4236-4e26-a245-34e5eec7837d"
      }
     }
    },
    "21fd74dd-1e21-40ed-9130-8ce5acabb104": {
     "id": "21fd74dd-1e21-40ed-9130-8ce5acabb104",
     "prev": "7c6a3219-9f9a-4285-8fea-46f2cdbc0147",
     "regions": {
      "1697bc52-f44d-43a6-9e5e-104012e62b76": {
       "attrs": {
        "height": 0.8,
        "width": 0.8,
        "x": 0.1,
        "y": 0.1
       },
       "content": {
        "cell": "3dcb1b73-3d3c-4af1-b727-9b28919df2f0",
        "part": "whole"
       },
       "id": "1697bc52-f44d-43a6-9e5e-104012e62b76"
      }
     }
    },
    "268f6921-b408-45e5-a90b-d730ce0241e1": {
     "id": "268f6921-b408-45e5-a90b-d730ce0241e1",
     "prev": "fab0b087-a637-4ae3-9be8-8184617efa4e",
     "regions": {
      "338d36bd-6339-480a-97c5-0739aa380626": {
       "attrs": {
        "height": 0.8,
        "width": 0.8,
        "x": 0.1,
        "y": 0.1
       },
       "content": {
        "cell": "c8ff51ab-65ca-4d84-a804-5ce979bebed9",
        "part": "whole"
       },
       "id": "338d36bd-6339-480a-97c5-0739aa380626"
      }
     }
    },
    "2df35588-320e-41aa-8b0b-f00993e7bb51": {
     "id": "2df35588-320e-41aa-8b0b-f00993e7bb51",
     "prev": "ce08b93e-6d31-417e-849b-b02e5b11ea8a",
     "regions": {
      "b4a8c48c-8549-4971-a30b-29269387018d": {
       "attrs": {
        "height": 0.8,
        "width": 0.8,
        "x": 0.1,
        "y": 0.1
       },
       "content": {
        "cell": "6fa1f0a9-85a6-4f48-8f07-4704cc606a16",
        "part": "whole"
       },
       "id": "b4a8c48c-8549-4971-a30b-29269387018d"
      }
     }
    },
    "3293f97c-cdbd-4ca9-bfe2-82e5b0bac087": {
     "id": "3293f97c-cdbd-4ca9-bfe2-82e5b0bac087",
     "prev": "75095f8c-0d1b-4989-a58e-fe09f6577cd4",
     "regions": {
      "b897c8ab-3642-4e5f-8987-1d87f1143a5c": {
       "attrs": {
        "height": 0.8,
        "width": 0.8,
        "x": 0.1,
        "y": 0.1
       },
       "content": {
        "cell": "7d9e44e5-f635-427d-9db1-c76565c8e17a",
        "part": "whole"
       },
       "id": "b897c8ab-3642-4e5f-8987-1d87f1143a5c"
      }
     }
    },
    "3328f9bd-e196-4581-8953-580587bc029d": {
     "id": "3328f9bd-e196-4581-8953-580587bc029d",
     "prev": "7b33f221-cdeb-49b0-924c-8164a26f2e3a",
     "regions": {
      "34fd3374-810f-443c-a75b-68b12d0ef193": {
       "attrs": {
        "height": 0.8,
        "width": 0.8,
        "x": 0.1,
        "y": 0.1
       },
       "content": {
        "cell": "9753d289-627e-4784-9be2-bc5277279cc3",
        "part": "whole"
       },
       "id": "34fd3374-810f-443c-a75b-68b12d0ef193"
      }
     }
    },
    "337ca0d9-a646-4a4d-85ca-96738e3ff61c": {
     "id": "337ca0d9-a646-4a4d-85ca-96738e3ff61c",
     "prev": "0ae99d25-5f65-42f5-a9ec-e8ca766e544b",
     "regions": {
      "4f5af47d-28f4-4217-8b40-c2a20248bac6": {
       "attrs": {
        "height": 0.8,
        "width": 0.8,
        "x": 0.1,
        "y": 0.1
       },
       "content": {
        "cell": "366624cb-36ae-46fa-b171-591b04e91d6f",
        "part": "whole"
       },
       "id": "4f5af47d-28f4-4217-8b40-c2a20248bac6"
      }
     }
    },
    "354f5af8-90e1-41d3-b285-7015fbc58836": {
     "id": "354f5af8-90e1-41d3-b285-7015fbc58836",
     "prev": "585bf1c8-bc6c-4b59-96fb-f24dad15b708",
     "regions": {
      "7d2cf9ae-d3f3-4aac-bfbf-9411e28077a2": {
       "attrs": {
        "height": 0.8,
        "width": 0.8,
        "x": 0.1,
        "y": 0.1
       },
       "content": {
        "cell": "3e09998a-bdb1-43ed-b956-28d8cf52c198",
        "part": "whole"
       },
       "id": "7d2cf9ae-d3f3-4aac-bfbf-9411e28077a2"
      }
     }
    },
    "3a9fe771-e6fe-40e0-af98-28ffed54b55c": {
     "id": "3a9fe771-e6fe-40e0-af98-28ffed54b55c",
     "prev": "55c0a925-1e62-4b78-bf49-fa9975163cad",
     "regions": {
      "95a52e95-9bce-47da-a514-d096a9f1e9f7": {
       "attrs": {
        "height": 0.8,
        "width": 0.8,
        "x": 0.1,
        "y": 0.1
       },
       "content": {
        "cell": "d121dbe1-dd8f-4ba0-aa5f-d8761647ec38",
        "part": "whole"
       },
       "id": "95a52e95-9bce-47da-a514-d096a9f1e9f7"
      }
     }
    },
    "3afaae86-651b-441d-83fa-00e92e6f4b74": {
     "id": "3afaae86-651b-441d-83fa-00e92e6f4b74",
     "prev": "b09fbc3c-1577-4d51-bfdc-6db0db84840c",
     "regions": {
      "93968ffa-c2ae-4278-9e41-3ec6385e882a": {
       "attrs": {
        "height": 0.8,
        "width": 0.8,
        "x": 0.1,
        "y": 0.1
       },
       "content": {
        "cell": "81791a96-7eee-4b9e-ac94-9648045ef2b0",
        "part": "whole"
       },
       "id": "93968ffa-c2ae-4278-9e41-3ec6385e882a"
      }
     }
    },
    "3bd06fa1-3154-4bfb-b3b0-3eca98a4941e": {
     "id": "3bd06fa1-3154-4bfb-b3b0-3eca98a4941e",
     "prev": "216311e8-9895-4eef-ba32-2ca3eb957b5f",
     "regions": {
      "e23220e2-703e-4780-b3a3-444ca5d84816": {
       "attrs": {
        "height": 0.8,
        "width": 0.8,
        "x": 0.1,
        "y": 0.1
       },
       "content": {
        "cell": "862cd827-e036-46a4-821f-74cfb2ef1dce",
        "part": "whole"
       },
       "id": "e23220e2-703e-4780-b3a3-444ca5d84816"
      }
     }
    },
    "3ef01c2f-6f2a-454d-97fc-72d8dea77e81": {
     "id": "3ef01c2f-6f2a-454d-97fc-72d8dea77e81",
     "prev": "f05887f6-e6a1-4b57-b3e7-9c1990dc9ed5",
     "regions": {
      "c4203fd1-7e1b-43dc-8d98-dcc121673abc": {
       "attrs": {
        "height": 0.8,
        "width": 0.8,
        "x": 0.1,
        "y": 0.1
       },
       "content": {
        "cell": "ebda9b89-9c90-4faf-ab07-cc4789fc8284",
        "part": "whole"
       },
       "id": "c4203fd1-7e1b-43dc-8d98-dcc121673abc"
      }
     }
    },
    "40c82d58-f3b3-4907-a75a-3c981e3fafc5": {
     "id": "40c82d58-f3b3-4907-a75a-3c981e3fafc5",
     "prev": "4390c12b-4760-454e-8c12-4bd6cde4d097",
     "regions": {
      "c9dfaee0-95a2-4570-8f10-1a10562bfdff": {
       "attrs": {
        "height": 0.8,
        "width": 0.8,
        "x": 0.1,
        "y": 0.1
       },
       "content": {
        "cell": "3a59db7d-1f8d-44c6-80e5-849bfb834e18",
        "part": "whole"
       },
       "id": "c9dfaee0-95a2-4570-8f10-1a10562bfdff"
      }
     }
    },
    "42567ec8-d74f-46cd-93f9-3571e68fd58b": {
     "id": "42567ec8-d74f-46cd-93f9-3571e68fd58b",
     "prev": "50ae088f-1733-4163-b521-7e305d0820ac",
     "regions": {
      "0ce6b952-85dc-440d-a10f-0ef585fb74c2": {
       "attrs": {
        "height": 0.8,
        "width": 0.8,
        "x": 0.1,
        "y": 0.1
       },
       "content": {
        "cell": "529d4c32-b229-4a82-975d-f7309111856a",
        "part": "whole"
       },
       "id": "0ce6b952-85dc-440d-a10f-0ef585fb74c2"
      }
     }
    },
    "4283c42d-0c7c-4a97-baed-b8c7eff12077": {
     "id": "4283c42d-0c7c-4a97-baed-b8c7eff12077",
     "prev": "c1eca737-eeb5-47eb-be8b-fb903d499339",
     "regions": {
      "a974d028-d0db-4a16-b19a-8f7dc239ba0c": {
       "attrs": {
        "height": 0.8,
        "width": 0.8,
        "x": 0.1,
        "y": 0.1
       },
       "content": {
        "cell": "ba736132-cbe7-4c95-97af-5e2494f2fae6",
        "part": "whole"
       },
       "id": "a974d028-d0db-4a16-b19a-8f7dc239ba0c"
      }
     }
    },
    "4390c12b-4760-454e-8c12-4bd6cde4d097": {
     "id": "4390c12b-4760-454e-8c12-4bd6cde4d097",
     "prev": "cae8cdda-acdd-4a69-b666-155b05e68452",
     "regions": {
      "0d54b44c-e0c7-42a4-9c96-13be42f30b5d": {
       "attrs": {
        "height": 0.8,
        "width": 0.8,
        "x": 0.1,
        "y": 0.1
       },
       "content": {
        "cell": "92dde204-189a-4abd-b5e5-0b9041dfead0",
        "part": "whole"
       },
       "id": "0d54b44c-e0c7-42a4-9c96-13be42f30b5d"
      }
     }
    },
    "4497e1d8-5e24-45e4-9c3b-8123a572a944": {
     "id": "4497e1d8-5e24-45e4-9c3b-8123a572a944",
     "prev": "40c82d58-f3b3-4907-a75a-3c981e3fafc5",
     "regions": {
      "22c449db-563c-4b73-8d04-1c55a49b7353": {
       "attrs": {
        "height": 0.8,
        "width": 0.8,
        "x": 0.1,
        "y": 0.1
       },
       "content": {
        "cell": "4c3f0096-5283-4c49-ab30-aa9b7b06a72e",
        "part": "whole"
       },
       "id": "22c449db-563c-4b73-8d04-1c55a49b7353"
      }
     }
    },
    "44ed98f6-0906-4b64-9897-9f4c4d14cb59": {
     "id": "44ed98f6-0906-4b64-9897-9f4c4d14cb59",
     "prev": "3bd06fa1-3154-4bfb-b3b0-3eca98a4941e",
     "regions": {
      "b0e0644c-de4f-4c5a-a303-6c60993f75e3": {
       "attrs": {
        "height": 0.8,
        "width": 0.8,
        "x": 0.1,
        "y": 0.1
       },
       "content": {
        "cell": "053ab779-037f-4574-b50a-dcb47aae8615",
        "part": "whole"
       },
       "id": "b0e0644c-de4f-4c5a-a303-6c60993f75e3"
      }
     }
    },
    "4e77bd33-f882-4ca2-9be2-471fdf309ee6": {
     "id": "4e77bd33-f882-4ca2-9be2-471fdf309ee6",
     "prev": "01a073ec-419a-49e3-a0b1-5d2334e4e745",
     "regions": {
      "8ce54e65-2f52-4acd-8297-fcb53f65cdb8": {
       "attrs": {
        "height": 0.8,
        "width": 0.8,
        "x": 0.1,
        "y": 0.1
       },
       "content": {
        "cell": "4328934d-99e7-40bd-86e3-24ed567ff4f4",
        "part": "whole"
       },
       "id": "8ce54e65-2f52-4acd-8297-fcb53f65cdb8"
      }
     }
    },
    "4fdaa27e-b9d4-4280-aa71-9e663e8d997c": {
     "id": "4fdaa27e-b9d4-4280-aa71-9e663e8d997c",
     "prev": "07f8fc69-64e4-4475-9dc1-7a59e9c7dc7a",
     "regions": {
      "ad1d35b2-2ea1-4a06-b9e2-208d94c4a531": {
       "attrs": {
        "height": 0.8,
        "width": 0.8,
        "x": 0.1,
        "y": 0.1
       },
       "content": {
        "cell": "c36540f6-19e3-4162-8d6c-cdc2485d1a1b",
        "part": "whole"
       },
       "id": "ad1d35b2-2ea1-4a06-b9e2-208d94c4a531"
      }
     }
    },
    "50ae088f-1733-4163-b521-7e305d0820ac": {
     "id": "50ae088f-1733-4163-b521-7e305d0820ac",
     "prev": "4e77bd33-f882-4ca2-9be2-471fdf309ee6",
     "regions": {
      "96eb73a1-9ce5-4b52-b9fe-4353001e225d": {
       "attrs": {
        "height": 0.8,
        "width": 0.8,
        "x": 0.1,
        "y": 0.1
       },
       "content": {
        "cell": "9af04960-79a9-42cf-ad16-1c0902fe17f4",
        "part": "whole"
       },
       "id": "96eb73a1-9ce5-4b52-b9fe-4353001e225d"
      }
     }
    },
    "54c539b9-5d86-4797-98b7-dd5e501cf5eb": {
     "id": "54c539b9-5d86-4797-98b7-dd5e501cf5eb",
     "prev": "08c388f5-7c65-41d9-ab2d-d59c41fc263f",
     "regions": {
      "48cb0e39-f743-4121-890b-d0da64ce2dad": {
       "attrs": {
        "height": 0.8,
        "width": 0.8,
        "x": 0.1,
        "y": 0.1
       },
       "content": {
        "cell": "72feb72c-7fdf-4757-b9f5-33675510e421",
        "part": "whole"
       },
       "id": "48cb0e39-f743-4121-890b-d0da64ce2dad"
      }
     }
    },
    "557adc96-14ea-4887-863d-7bf3a6a24d87": {
     "id": "557adc96-14ea-4887-863d-7bf3a6a24d87",
     "prev": "ebe68802-be03-4cc9-ac27-a8d751915c50",
     "regions": {
      "6c7c4fca-13ea-4ebf-bcb7-01d6e04159ae": {
       "attrs": {
        "height": 0.8,
        "width": 0.8,
        "x": 0.1,
        "y": 0.1
       },
       "content": {
        "cell": "f9df2849-af37-410c-9a21-e60a263749ab",
        "part": "whole"
       },
       "id": "6c7c4fca-13ea-4ebf-bcb7-01d6e04159ae"
      }
     }
    },
    "55c0a925-1e62-4b78-bf49-fa9975163cad": {
     "id": "55c0a925-1e62-4b78-bf49-fa9975163cad",
     "prev": "b8bb5dcd-19b3-4e0d-8059-0c5dc8b71ecb",
     "regions": {
      "b85c9755-3f67-41b7-90f6-0ae0d288a225": {
       "attrs": {
        "height": 0.8,
        "width": 0.8,
        "x": 0.1,
        "y": 0.1
       },
       "content": {
        "cell": "34930112-93bb-4a5d-9781-9e6b08155362",
        "part": "whole"
       },
       "id": "b85c9755-3f67-41b7-90f6-0ae0d288a225"
      }
     }
    },
    "566e552b-2d14-409d-9a03-562f8c9213d8": {
     "id": "566e552b-2d14-409d-9a03-562f8c9213d8",
     "prev": "268f6921-b408-45e5-a90b-d730ce0241e1",
     "regions": {
      "5b6e1bf1-5257-4fa0-819b-78fbc4871679": {
       "attrs": {
        "height": 0.8,
        "width": 0.8,
        "x": 0.1,
        "y": 0.1
       },
       "content": {
        "cell": "b2650a7b-fe68-4b18-a47b-d67554637275",
        "part": "whole"
       },
       "id": "5b6e1bf1-5257-4fa0-819b-78fbc4871679"
      }
     }
    },
    "57c5f7f0-785d-49e1-9e7f-16a0ba8cd191": {
     "id": "57c5f7f0-785d-49e1-9e7f-16a0ba8cd191",
     "prev": "cda55d99-dfda-4a8c-9bb9-5d8ca6c6e2da",
     "regions": {
      "337fd9cb-35a6-4d5c-b79e-fc7cb0871ef2": {
       "attrs": {
        "height": 0.8,
        "width": 0.8,
        "x": 0.1,
        "y": 0.1
       },
       "content": {
        "cell": "2ba89342-02e3-4417-8777-1d2746418bc6",
        "part": "whole"
       },
       "id": "337fd9cb-35a6-4d5c-b79e-fc7cb0871ef2"
      }
     }
    },
    "585bf1c8-bc6c-4b59-96fb-f24dad15b708": {
     "id": "585bf1c8-bc6c-4b59-96fb-f24dad15b708",
     "prev": "3a9fe771-e6fe-40e0-af98-28ffed54b55c",
     "regions": {
      "735659cb-c440-4aa4-9526-d6e2eef13ada": {
       "attrs": {
        "height": 0.8,
        "width": 0.8,
        "x": 0.1,
        "y": 0.1
       },
       "content": {
        "cell": "54402ba5-cb40-4e90-8c80-3041f80f2920",
        "part": "whole"
       },
       "id": "735659cb-c440-4aa4-9526-d6e2eef13ada"
      }
     }
    },
    "6116f515-1bda-4339-9a4f-9d444aca3055": {
     "id": "6116f515-1bda-4339-9a4f-9d444aca3055",
     "prev": "18e56060-1db0-4cd3-8fc5-d16c9f1a6a04",
     "regions": {
      "8f47a876-4b7c-45dd-99e6-c7d95e21cde9": {
       "attrs": {
        "height": 0.8,
        "width": 0.8,
        "x": 0.1,
        "y": 0.1
       },
       "content": {
        "cell": "01aa8b46-54df-4a31-9abf-bdc01c63d0da",
        "part": "whole"
       },
       "id": "8f47a876-4b7c-45dd-99e6-c7d95e21cde9"
      }
     }
    },
    "646001dd-3cdc-46bb-b9e7-e01f546fa679": {
     "id": "646001dd-3cdc-46bb-b9e7-e01f546fa679",
     "prev": "ac3c76c7-b6b0-4a55-af67-fdff67a57b8f",
     "regions": {
      "681079e4-8d12-4ec8-b245-2cfb7a99dbbd": {
       "attrs": {
        "height": 0.8,
        "width": 0.8,
        "x": 0.1,
        "y": 0.1
       },
       "content": {
        "cell": "5c7b8fe8-6e84-400c-b9cd-e3ef13bc8ad1",
        "part": "whole"
       },
       "id": "681079e4-8d12-4ec8-b245-2cfb7a99dbbd"
      }
     }
    },
    "65285164-378a-49a9-83ae-fb84a8aab364": {
     "id": "65285164-378a-49a9-83ae-fb84a8aab364",
     "prev": "d2d2f300-645f-4f14-b07c-e11aab2fd740",
     "regions": {
      "41a012bd-f15d-4d0c-8854-215c459324fc": {
       "attrs": {
        "height": 0.8,
        "width": 0.8,
        "x": 0.1,
        "y": 0.1
       },
       "content": {
        "cell": "8620f90c-1932-4974-8091-76a78ae43333",
        "part": "whole"
       },
       "id": "41a012bd-f15d-4d0c-8854-215c459324fc"
      }
     }
    },
    "6b7e26f1-fe49-44db-815d-44541fc36da3": {
     "id": "6b7e26f1-fe49-44db-815d-44541fc36da3",
     "prev": "c37d437a-e80f-4385-828d-319891f63739",
     "regions": {
      "9be0de2f-05dc-437d-b996-d52a5987005f": {
       "attrs": {
        "height": 0.8,
        "width": 0.8,
        "x": 0.1,
        "y": 0.1
       },
       "content": {
        "cell": "234c61b3-fea9-4e4b-988e-9de42560db8e",
        "part": "whole"
       },
       "id": "9be0de2f-05dc-437d-b996-d52a5987005f"
      }
     }
    },
    "73ca372f-4c17-45bb-b577-63a12a782ff7": {
     "id": "73ca372f-4c17-45bb-b577-63a12a782ff7",
     "prev": "75741cae-1004-484c-98f9-3079599184e6",
     "regions": {
      "5e3d9da7-8d93-45a3-8f4c-8150971fcad8": {
       "attrs": {
        "height": 0.8,
        "width": 0.8,
        "x": 0.1,
        "y": 0.1
       },
       "content": {
        "cell": "43bc2b74-90d0-4d13-a1fd-48a027ffa5b3",
        "part": "whole"
       },
       "id": "5e3d9da7-8d93-45a3-8f4c-8150971fcad8"
      }
     }
    },
    "75095f8c-0d1b-4989-a58e-fe09f6577cd4": {
     "id": "75095f8c-0d1b-4989-a58e-fe09f6577cd4",
     "prev": "0da60b82-c07c-4004-a84e-ff42bb787b9d",
     "regions": {
      "e0520986-e297-4084-ad2b-0b6fe6adac87": {
       "attrs": {
        "height": 0.8,
        "width": 0.8,
        "x": 0.1,
        "y": 0.1
       },
       "content": {
        "cell": "83c73e7d-165f-4bd0-9b2c-5f2a2ea7567c",
        "part": "whole"
       },
       "id": "e0520986-e297-4084-ad2b-0b6fe6adac87"
      }
     }
    },
    "75741cae-1004-484c-98f9-3079599184e6": {
     "id": "75741cae-1004-484c-98f9-3079599184e6",
     "prev": "77f9c4c1-0857-45fa-8475-cee23cc21ee8",
     "regions": {
      "afcf4981-11e5-4431-9ff3-428f66fc6055": {
       "attrs": {
        "height": 0.8,
        "width": 0.8,
        "x": 0.1,
        "y": 0.1
       },
       "content": {
        "cell": "894b2483-311f-4ad4-aed3-a274c36e0850",
        "part": "whole"
       },
       "id": "afcf4981-11e5-4431-9ff3-428f66fc6055"
      }
     }
    },
    "77f9c4c1-0857-45fa-8475-cee23cc21ee8": {
     "id": "77f9c4c1-0857-45fa-8475-cee23cc21ee8",
     "prev": "15c6ab82-2d6c-4669-9b9a-0e62669fd083",
     "regions": {
      "6fe6c786-c60a-4e93-a67c-1c1b60095d75": {
       "attrs": {
        "height": 0.8,
        "width": 0.8,
        "x": 0.1,
        "y": 0.1
       },
       "content": {
        "cell": "a49e2e97-1379-4b83-a1dd-62afc38b54e4",
        "part": "whole"
       },
       "id": "6fe6c786-c60a-4e93-a67c-1c1b60095d75"
      }
     }
    },
    "7b33f221-cdeb-49b0-924c-8164a26f2e3a": {
     "id": "7b33f221-cdeb-49b0-924c-8164a26f2e3a",
     "prev": "e7e338cf-3583-421a-99fa-ef126083d00e",
     "regions": {
      "b71b98f5-ab54-4b4d-9cf2-a7a0ecc6adde": {
       "attrs": {
        "height": 0.8,
        "width": 0.8,
        "x": 0.1,
        "y": 0.1
       },
       "content": {
        "cell": "8cf3f89d-1a2b-443e-8fc0-e2d9731d5951",
        "part": "whole"
       },
       "id": "b71b98f5-ab54-4b4d-9cf2-a7a0ecc6adde"
      }
     }
    },
    "7c6a3219-9f9a-4285-8fea-46f2cdbc0147": {
     "id": "7c6a3219-9f9a-4285-8fea-46f2cdbc0147",
     "prev": "44ed98f6-0906-4b64-9897-9f4c4d14cb59",
     "regions": {
      "96e57da9-1137-4fd6-b000-756e22011e76": {
       "attrs": {
        "height": 0.8,
        "width": 0.8,
        "x": 0.1,
        "y": 0.1
       },
       "content": {
        "cell": "dfcf0b80-de25-4610-9f79-11c414ab16d3",
        "part": "whole"
       },
       "id": "96e57da9-1137-4fd6-b000-756e22011e76"
      }
     }
    },
    "7f28cfe0-f83f-4f7a-be62-8ca8998e199e": {
     "id": "7f28cfe0-f83f-4f7a-be62-8ca8998e199e",
     "prev": "337ca0d9-a646-4a4d-85ca-96738e3ff61c",
     "regions": {
      "2ca7d3c4-c2c6-4e2e-8524-e7e091d57661": {
       "attrs": {
        "height": 0.8,
        "width": 0.8,
        "x": 0.1,
        "y": 0.1
       },
       "content": {
        "cell": "703d9e3c-2ade-431c-8bbe-fd842aa0ed49",
        "part": "whole"
       },
       "id": "2ca7d3c4-c2c6-4e2e-8524-e7e091d57661"
      }
     }
    },
    "810bc41b-530c-45bd-a8d2-7744fc067800": {
     "id": "810bc41b-530c-45bd-a8d2-7744fc067800",
     "prev": "c9ad86bf-2948-4ff8-9125-767483f4f5fe",
     "regions": {
      "651c7183-d59c-4f9b-aa35-f146ef5a3e29": {
       "attrs": {
        "height": 0.8,
        "width": 0.8,
        "x": 0.1,
        "y": 0.1
       },
       "content": {
        "cell": "758b53ef-1091-494b-82d3-51061a55f4bc",
        "part": "whole"
       },
       "id": "651c7183-d59c-4f9b-aa35-f146ef5a3e29"
      }
     }
    },
    "817680d3-536e-49d5-90a3-79203631010f": {
     "id": "817680d3-536e-49d5-90a3-79203631010f",
     "prev": "cbc16d58-af64-45d5-8c7d-8928fb82e00f",
     "regions": {
      "af111dff-5aaa-4136-b15e-4e25353bd63e": {
       "attrs": {
        "height": 0.8,
        "width": 0.8,
        "x": 0.1,
        "y": 0.1
       },
       "content": {
        "cell": "ff12a4a2-cd1c-4aea-af9a-bc77441324e9",
        "part": "whole"
       },
       "id": "af111dff-5aaa-4136-b15e-4e25353bd63e"
      }
     }
    },
    "84bab24c-0b59-42b9-9523-28739f3d6167": {
     "id": "84bab24c-0b59-42b9-9523-28739f3d6167",
     "prev": "0155f1a1-f34f-4687-9d18-5d7342ce0ecf",
     "regions": {
      "bcbce2d2-1ded-4cf5-b1a2-e99b90094d56": {
       "attrs": {
        "height": 0.8,
        "width": 0.8,
        "x": 0.1,
        "y": 0.1
       },
       "content": {
        "cell": "99c281cd-5b43-4273-9e07-6f4e3af530fd",
        "part": "whole"
       },
       "id": "bcbce2d2-1ded-4cf5-b1a2-e99b90094d56"
      }
     }
    },
    "85143dc4-0ba0-4dde-bc8b-6f2720748fe7": {
     "id": "85143dc4-0ba0-4dde-bc8b-6f2720748fe7",
     "prev": "42567ec8-d74f-46cd-93f9-3571e68fd58b",
     "regions": {
      "2745a491-5bf1-4ee1-ab44-a25f7fcbe814": {
       "attrs": {
        "height": 0.8,
        "width": 0.8,
        "x": 0.1,
        "y": 0.1
       },
       "content": {
        "cell": "8e8b6211-50f2-44d5-944e-545b33ef678e",
        "part": "whole"
       },
       "id": "2745a491-5bf1-4ee1-ab44-a25f7fcbe814"
      }
     }
    },
    "8a931cc0-eeed-4355-b76c-2de89e98925e": {
     "id": "8a931cc0-eeed-4355-b76c-2de89e98925e",
     "prev": "6116f515-1bda-4339-9a4f-9d444aca3055",
     "regions": {
      "c1fb5561-9cc8-4038-b4c3-280ca4a63255": {
       "attrs": {
        "height": 0.8,
        "width": 0.8,
        "x": 0.1,
        "y": 0.1
       },
       "content": {
        "cell": "9a35fa36-2e31-43b7-a968-3f25fef165f4",
        "part": "whole"
       },
       "id": "c1fb5561-9cc8-4038-b4c3-280ca4a63255"
      }
     }
    },
    "8c15c9b3-f014-4a9e-849a-05582d0f00b0": {
     "id": "8c15c9b3-f014-4a9e-849a-05582d0f00b0",
     "prev": "e1f6462b-cec9-433a-adcf-555b688d056d",
     "regions": {
      "7defb7de-efc6-4af7-83cc-247faa871897": {
       "attrs": {
        "height": 0.8,
        "width": 0.8,
        "x": 0.1,
        "y": 0.1
       },
       "content": {
        "cell": "144a83fd-cf60-426d-822d-3b01a39d1694",
        "part": "whole"
       },
       "id": "7defb7de-efc6-4af7-83cc-247faa871897"
      }
     }
    },
    "8dec4b2a-b742-47ed-bf29-ef60504292b2": {
     "id": "8dec4b2a-b742-47ed-bf29-ef60504292b2",
     "prev": "354f5af8-90e1-41d3-b285-7015fbc58836",
     "regions": {
      "325fc014-e457-4b1a-89aa-84aa86f61f03": {
       "attrs": {
        "height": 0.8,
        "width": 0.8,
        "x": 0.1,
        "y": 0.1
       },
       "content": {
        "cell": "4cc52347-a5e7-44ee-bc3a-010067bd3783",
        "part": "whole"
       },
       "id": "325fc014-e457-4b1a-89aa-84aa86f61f03"
      }
     }
    },
    "99b64739-ed28-467f-9945-bdb75b04b825": {
     "id": "99b64739-ed28-467f-9945-bdb75b04b825",
     "prev": "d9136a62-b6bd-4abc-8240-39f433aca542",
     "regions": {
      "86a87cb3-b2fe-41bf-8635-f948b28b9cb8": {
       "attrs": {
        "height": 0.8,
        "width": 0.8,
        "x": 0.1,
        "y": 0.1
       },
       "content": {
        "cell": "8f74f9a4-e5be-4b62-9738-60e5de318fdb",
        "part": "whole"
       },
       "id": "86a87cb3-b2fe-41bf-8635-f948b28b9cb8"
      }
     }
    },
    "9f87fa1f-371f-40ae-9a50-8e16a6084fb6": {
     "id": "9f87fa1f-371f-40ae-9a50-8e16a6084fb6",
     "prev": "4283c42d-0c7c-4a97-baed-b8c7eff12077",
     "regions": {
      "2a6276a9-7103-4940-a97d-2789449cb8f5": {
       "attrs": {
        "height": 0.8,
        "width": 0.8,
        "x": 0.1,
        "y": 0.1
       },
       "content": {
        "cell": "6eb8951a-f6ca-4a39-9be5-2d52ac11a045",
        "part": "whole"
       },
       "id": "2a6276a9-7103-4940-a97d-2789449cb8f5"
      }
     }
    },
    "a1e6663b-7876-46a2-8915-8ba637db9cdd": {
     "id": "a1e6663b-7876-46a2-8915-8ba637db9cdd",
     "prev": "f2bd4117-bad1-454a-9ec3-beae92148779",
     "regions": {
      "773551c5-7421-4dd3-987e-cd547315e37a": {
       "attrs": {
        "height": 0.8,
        "width": 0.8,
        "x": 0.1,
        "y": 0.1
       },
       "content": {
        "cell": "d41c7ac5-2769-479c-a9ea-4941074ad559",
        "part": "whole"
       },
       "id": "773551c5-7421-4dd3-987e-cd547315e37a"
      }
     }
    },
    "a4b12d23-9ca9-4860-b8f1-1d7dc9256d53": {
     "id": "a4b12d23-9ca9-4860-b8f1-1d7dc9256d53",
     "prev": "ea7952d8-0b9c-422f-9b30-2e627feacf23",
     "regions": {
      "7a440b69-c388-4a70-a0c9-c11e535e26a3": {
       "attrs": {
        "height": 0.8,
        "width": 0.8,
        "x": 0.1,
        "y": 0.1
       },
       "content": {
        "cell": "22a64d5b-af38-4441-9ae8-d94bc67abdfa",
        "part": "whole"
       },
       "id": "7a440b69-c388-4a70-a0c9-c11e535e26a3"
      }
     }
    },
    "a67a655f-9f25-42c5-81d6-773cffa7f08c": {
     "id": "a67a655f-9f25-42c5-81d6-773cffa7f08c",
     "prev": "54c539b9-5d86-4797-98b7-dd5e501cf5eb",
     "regions": {
      "5ca7a9d5-d2be-4cb9-94e9-d5343bb221c8": {
       "attrs": {
        "height": 0.8,
        "width": 0.8,
        "x": 0.1,
        "y": 0.1
       },
       "content": {
        "cell": "90999fea-e940-4f71-9f9d-fd15d6c9eeb3",
        "part": "whole"
       },
       "id": "5ca7a9d5-d2be-4cb9-94e9-d5343bb221c8"
      }
     }
    },
    "a6f30fb6-530f-44d4-85b4-a883cf75058c": {
     "id": "a6f30fb6-530f-44d4-85b4-a883cf75058c",
     "prev": "cbfcede8-9779-47b2-a563-4a658235eed0",
     "regions": {
      "9b6ea802-8efd-46c6-9acf-07e20081ae22": {
       "attrs": {
        "height": 0.8,
        "width": 0.8,
        "x": 0.1,
        "y": 0.1
       },
       "content": {
        "cell": "2687cb7d-b902-499d-84f5-65ad0efbc282",
        "part": "whole"
       },
       "id": "9b6ea802-8efd-46c6-9acf-07e20081ae22"
      }
     }
    },
    "ac3c76c7-b6b0-4a55-af67-fdff67a57b8f": {
     "id": "ac3c76c7-b6b0-4a55-af67-fdff67a57b8f",
     "prev": "57c5f7f0-785d-49e1-9e7f-16a0ba8cd191",
     "regions": {
      "1e01a4de-1e2c-4c78-b7b9-f7e568bf3e8b": {
       "attrs": {
        "height": 0.8,
        "width": 0.8,
        "x": 0.1,
        "y": 0.1
       },
       "content": {
        "cell": "a631d43a-f9b3-4bf8-9971-0e1324fd31a6",
        "part": "whole"
       },
       "id": "1e01a4de-1e2c-4c78-b7b9-f7e568bf3e8b"
      }
     }
    },
    "b09fbc3c-1577-4d51-bfdc-6db0db84840c": {
     "id": "b09fbc3c-1577-4d51-bfdc-6db0db84840c",
     "prev": "817680d3-536e-49d5-90a3-79203631010f",
     "regions": {
      "5c7580d7-9199-4157-a0c5-196683c25bce": {
       "attrs": {
        "height": 0.8,
        "width": 0.8,
        "x": 0.1,
        "y": 0.1
       },
       "content": {
        "cell": "48201982-75dc-4880-aff2-8812ac3d8e24",
        "part": "whole"
       },
       "id": "5c7580d7-9199-4157-a0c5-196683c25bce"
      }
     }
    },
    "b34dfd35-782d-4714-93c9-3a0921612f64": {
     "id": "b34dfd35-782d-4714-93c9-3a0921612f64",
     "prev": "9f87fa1f-371f-40ae-9a50-8e16a6084fb6",
     "regions": {
      "7709a75d-f32d-4039-bfae-7ee8b63b9b48": {
       "attrs": {
        "height": 0.8,
        "width": 0.8,
        "x": 0.1,
        "y": 0.1
       },
       "content": {
        "cell": "6afb7044-b492-4572-a8b5-851e8432716a",
        "part": "whole"
       },
       "id": "7709a75d-f32d-4039-bfae-7ee8b63b9b48"
      }
     }
    },
    "b5676b51-38c9-4745-b5bd-a588c375b3e9": {
     "id": "b5676b51-38c9-4745-b5bd-a588c375b3e9",
     "prev": "21fd74dd-1e21-40ed-9130-8ce5acabb104",
     "regions": {
      "1410f2f7-15ed-454e-853b-e49996378a93": {
       "attrs": {
        "height": 0.8,
        "width": 0.8,
        "x": 0.1,
        "y": 0.1
       },
       "content": {
        "cell": "78dd7ed4-9b1f-4097-b7e3-79442bc3811a",
        "part": "whole"
       },
       "id": "1410f2f7-15ed-454e-853b-e49996378a93"
      }
     }
    },
    "b8bb5dcd-19b3-4e0d-8059-0c5dc8b71ecb": {
     "id": "b8bb5dcd-19b3-4e0d-8059-0c5dc8b71ecb",
     "prev": "c8c7f2f8-236e-45c8-a4f7-f36f84bc483b",
     "regions": {
      "ddc20663-4f86-4ebd-a8b6-c4cf992956b0": {
       "attrs": {
        "height": 0.8,
        "width": 0.8,
        "x": 0.1,
        "y": 0.1
       },
       "content": {
        "cell": "58ebb2ec-f9fb-442f-90d6-42fb0218c12e",
        "part": "whole"
       },
       "id": "ddc20663-4f86-4ebd-a8b6-c4cf992956b0"
      }
     }
    },
    "b9740779-0ce0-44a1-9566-cf8878d8ca32": {
     "id": "b9740779-0ce0-44a1-9566-cf8878d8ca32",
     "prev": "84bab24c-0b59-42b9-9523-28739f3d6167",
     "regions": {
      "5a561cbc-9f83-4f63-ac67-fe395a1f10ad": {
       "attrs": {
        "height": 0.8,
        "width": 0.8,
        "x": 0.1,
        "y": 0.1
       },
       "content": {
        "cell": "5d56096d-656d-42ae-9a09-7b35905bdeb0",
        "part": "whole"
       },
       "id": "5a561cbc-9f83-4f63-ac67-fe395a1f10ad"
      }
     }
    },
    "bb621ff8-788f-4ab7-8451-1bdf2dc2a541": {
     "id": "bb621ff8-788f-4ab7-8451-1bdf2dc2a541",
     "prev": "c038f6c5-8384-43eb-9df2-f96a4db9bbb3",
     "regions": {
      "0028229d-f710-406d-8094-e67361573c36": {
       "attrs": {
        "height": 0.8,
        "width": 0.8,
        "x": 0.1,
        "y": 0.1
       },
       "content": {
        "cell": "1ada6311-50d9-43b1-b664-4a5b20be0ea8",
        "part": "whole"
       },
       "id": "0028229d-f710-406d-8094-e67361573c36"
      }
     }
    },
    "bc89e020-7d42-4677-a2ed-cd664455f521": {
     "id": "bc89e020-7d42-4677-a2ed-cd664455f521",
     "prev": "8c15c9b3-f014-4a9e-849a-05582d0f00b0",
     "regions": {
      "535011e6-5e7f-4a94-87c8-2e74af1ac21e": {
       "attrs": {
        "height": 0.8,
        "width": 0.8,
        "x": 0.1,
        "y": 0.1
       },
       "content": {
        "cell": "8fda0ea8-fc32-41ab-a1f6-e54723bcd0ae",
        "part": "whole"
       },
       "id": "535011e6-5e7f-4a94-87c8-2e74af1ac21e"
      }
     }
    },
    "bdbf7828-4601-4131-bcf5-a6b7cca927f6": {
     "id": "bdbf7828-4601-4131-bcf5-a6b7cca927f6",
     "prev": "09c573fa-01a5-4cc9-ba20-894961b37ec2",
     "regions": {
      "53181244-388a-422f-b0d6-a7f673be3382": {
       "attrs": {
        "height": 0.8,
        "width": 0.8,
        "x": 0.1,
        "y": 0.1
       },
       "content": {
        "cell": "3c243669-05b7-4bcf-9b57-8b292de4f5b5",
        "part": "whole"
       },
       "id": "53181244-388a-422f-b0d6-a7f673be3382"
      }
     }
    },
    "c038f6c5-8384-43eb-9df2-f96a4db9bbb3": {
     "id": "c038f6c5-8384-43eb-9df2-f96a4db9bbb3",
     "prev": "c697384f-19de-4664-96b5-ac82554faa0b",
     "regions": {
      "4c8c1eed-3ecc-4e13-9c06-e89656f5c84b": {
       "attrs": {
        "height": 0.8,
        "width": 0.8,
        "x": 0.1,
        "y": 0.1
       },
       "content": {
        "cell": "52557fb8-8295-4e07-8c03-2062357b97ff",
        "part": "whole"
       },
       "id": "4c8c1eed-3ecc-4e13-9c06-e89656f5c84b"
      }
     }
    },
    "c1eca737-eeb5-47eb-be8b-fb903d499339": {
     "id": "c1eca737-eeb5-47eb-be8b-fb903d499339",
     "prev": "73ca372f-4c17-45bb-b577-63a12a782ff7",
     "regions": {
      "d9c77915-e6a1-43df-9516-38b4c479339f": {
       "attrs": {
        "height": 0.8,
        "width": 0.8,
        "x": 0.1,
        "y": 0.1
       },
       "content": {
        "cell": "480587f7-dc4b-433a-ab33-5293a7940621",
        "part": "whole"
       },
       "id": "d9c77915-e6a1-43df-9516-38b4c479339f"
      }
     }
    },
    "c37d437a-e80f-4385-828d-319891f63739": {
     "id": "c37d437a-e80f-4385-828d-319891f63739",
     "prev": "b34dfd35-782d-4714-93c9-3a0921612f64",
     "regions": {
      "37fe0725-c621-474f-ae8a-c7ec7d444f70": {
       "attrs": {
        "height": 0.8,
        "width": 0.8,
        "x": 0.1,
        "y": 0.1
       },
       "content": {
        "cell": "aa465775-836f-4e81-8402-724ad28d460b",
        "part": "whole"
       },
       "id": "37fe0725-c621-474f-ae8a-c7ec7d444f70"
      }
     }
    },
    "c56c385d-0156-4afb-a8a6-aaecc0ca89fd": {
     "id": "c56c385d-0156-4afb-a8a6-aaecc0ca89fd",
     "prev": "e2c43e58-ac6a-4ed0-9658-5cf3b7bbef8a",
     "regions": {
      "075b62ae-68e2-4e3c-ad76-960de381aa4e": {
       "attrs": {
        "height": 0.8,
        "width": 0.8,
        "x": 0.1,
        "y": 0.1
       },
       "content": {
        "cell": "ee8af5d5-8879-4369-9ba7-e7c3270bb20f",
        "part": "whole"
       },
       "id": "075b62ae-68e2-4e3c-ad76-960de381aa4e"
      }
     }
    },
    "c697384f-19de-4664-96b5-ac82554faa0b": {
     "id": "c697384f-19de-4664-96b5-ac82554faa0b",
     "prev": "1acd3518-0233-479e-b087-336024826405",
     "regions": {
      "49bb757b-68fd-4dc5-96af-62783bb4f63e": {
       "attrs": {
        "height": 0.8,
        "width": 0.8,
        "x": 0.1,
        "y": 0.1
       },
       "content": {
        "cell": "c5dabf5b-6804-4523-a162-2bfd7521c2b3",
        "part": "whole"
       },
       "id": "49bb757b-68fd-4dc5-96af-62783bb4f63e"
      }
     }
    },
    "c8c7f2f8-236e-45c8-a4f7-f36f84bc483b": {
     "id": "c8c7f2f8-236e-45c8-a4f7-f36f84bc483b",
     "prev": "810bc41b-530c-45bd-a8d2-7744fc067800",
     "regions": {
      "784d7be9-831b-4db6-a25c-7dc6534b8b70": {
       "attrs": {
        "height": 0.8,
        "width": 0.8,
        "x": 0.1,
        "y": 0.1
       },
       "content": {
        "cell": "ff05795f-168b-42e6-878d-f30063039431",
        "part": "whole"
       },
       "id": "784d7be9-831b-4db6-a25c-7dc6534b8b70"
      }
     }
    },
    "c9ad86bf-2948-4ff8-9125-767483f4f5fe": {
     "id": "c9ad86bf-2948-4ff8-9125-767483f4f5fe",
     "prev": "e4e01df2-7970-4d31-9d31-f823297654d7",
     "regions": {
      "5a10b62f-fbe9-4b33-8c1d-936771be9e96": {
       "attrs": {
        "height": 0.8,
        "width": 0.8,
        "x": 0.1,
        "y": 0.1
       },
       "content": {
        "cell": "a8e6f4cc-f510-4a81-a55f-08ce9d2fac2a",
        "part": "whole"
       },
       "id": "5a10b62f-fbe9-4b33-8c1d-936771be9e96"
      }
     }
    },
    "cae8cdda-acdd-4a69-b666-155b05e68452": {
     "id": "cae8cdda-acdd-4a69-b666-155b05e68452",
     "prev": "04818eef-c160-4549-9bcb-8db3d659af1b",
     "regions": {
      "650e33be-d257-4b2b-a665-4b76462d5597": {
       "attrs": {
        "height": 0.8,
        "width": 0.8,
        "x": 0.1,
        "y": 0.1
       },
       "content": {
        "cell": "2e0e262d-7262-4247-8d5a-c9b7a35257f3",
        "part": "whole"
       },
       "id": "650e33be-d257-4b2b-a665-4b76462d5597"
      }
     }
    },
    "cbc16d58-af64-45d5-8c7d-8928fb82e00f": {
     "id": "cbc16d58-af64-45d5-8c7d-8928fb82e00f",
     "prev": "65285164-378a-49a9-83ae-fb84a8aab364",
     "regions": {
      "d958c05f-8bd9-4dfb-bb0f-0486c9fd6492": {
       "attrs": {
        "height": 0.8,
        "width": 0.8,
        "x": 0.1,
        "y": 0.1
       },
       "content": {
        "cell": "2762d0e8-2364-4697-8298-fbe442f9cf5c",
        "part": "whole"
       },
       "id": "d958c05f-8bd9-4dfb-bb0f-0486c9fd6492"
      }
     }
    },
    "cbfcede8-9779-47b2-a563-4a658235eed0": {
     "id": "cbfcede8-9779-47b2-a563-4a658235eed0",
     "prev": "3293f97c-cdbd-4ca9-bfe2-82e5b0bac087",
     "regions": {
      "79f37047-2137-4807-8d78-b15c3ad57520": {
       "attrs": {
        "height": 0.8,
        "width": 0.8,
        "x": 0.1,
        "y": 0.1
       },
       "content": {
        "cell": "6a9603d4-f4f1-4af8-9b85-213564808d2e",
        "part": "whole"
       },
       "id": "79f37047-2137-4807-8d78-b15c3ad57520"
      }
     }
    },
    "cda55d99-dfda-4a8c-9bb9-5d8ca6c6e2da": {
     "id": "cda55d99-dfda-4a8c-9bb9-5d8ca6c6e2da",
     "prev": "f085ca31-e716-40d9-aee9-613395e52421",
     "regions": {
      "e9922e30-3536-4d5c-8fd0-1eae84686448": {
       "attrs": {
        "height": 0.8,
        "width": 0.8,
        "x": 0.1,
        "y": 0.1
       },
       "content": {
        "cell": "4d8d9359-5ff6-4e55-ba45-0e64e0b9d31e",
        "part": "whole"
       },
       "id": "e9922e30-3536-4d5c-8fd0-1eae84686448"
      }
     }
    },
    "ce08b93e-6d31-417e-849b-b02e5b11ea8a": {
     "id": "ce08b93e-6d31-417e-849b-b02e5b11ea8a",
     "prev": "646001dd-3cdc-46bb-b9e7-e01f546fa679",
     "regions": {
      "f537d8ab-5fd0-4e0f-8379-7ee33750ba36": {
       "attrs": {
        "height": 0.8,
        "width": 0.8,
        "x": 0.1,
        "y": 0.1
       },
       "content": {
        "cell": "830a3c31-634a-478d-be65-7ce9b0c06aec",
        "part": "whole"
       },
       "id": "f537d8ab-5fd0-4e0f-8379-7ee33750ba36"
      }
     }
    },
    "d2d2f300-645f-4f14-b07c-e11aab2fd740": {
     "id": "d2d2f300-645f-4f14-b07c-e11aab2fd740",
     "prev": "8a931cc0-eeed-4355-b76c-2de89e98925e",
     "regions": {
      "43e22f54-06fd-4f55-89a3-a39dd77969da": {
       "attrs": {
        "height": 0.8,
        "width": 0.8,
        "x": 0.1,
        "y": 0.1
       },
       "content": {
        "cell": "b9b7a3d2-c549-4611-97d7-e96b48e7179f",
        "part": "whole"
       },
       "id": "43e22f54-06fd-4f55-89a3-a39dd77969da"
      }
     }
    },
    "d3bdba90-3262-42d4-ae91-95b15502559e": {
     "id": "d3bdba90-3262-42d4-ae91-95b15502559e",
     "prev": "fe9453c4-9c87-4f94-9ddc-13cfe4aabf8b",
     "regions": {
      "25d7dc09-ec46-422f-a82d-53907e5dfe51": {
       "attrs": {
        "height": 0.8,
        "width": 0.8,
        "x": 0.1,
        "y": 0.1
       },
       "content": {
        "cell": "791626a7-a02f-46a7-8e6a-18d62581a795",
        "part": "whole"
       },
       "id": "25d7dc09-ec46-422f-a82d-53907e5dfe51"
      }
     }
    },
    "d9136a62-b6bd-4abc-8240-39f433aca542": {
     "id": "d9136a62-b6bd-4abc-8240-39f433aca542",
     "prev": "ece4b3d4-6016-4555-a1ff-c32a78d7f71f",
     "regions": {
      "2ae0ec84-a295-48e4-91cc-789cc5aead65": {
       "attrs": {
        "height": 0.8,
        "width": 0.8,
        "x": 0.1,
        "y": 0.1
       },
       "content": {
        "cell": "bb40a3b7-8e45-4d76-b508-0cf17f932639",
        "part": "whole"
       },
       "id": "2ae0ec84-a295-48e4-91cc-789cc5aead65"
      }
     }
    },
    "e1f6462b-cec9-433a-adcf-555b688d056d": {
     "id": "e1f6462b-cec9-433a-adcf-555b688d056d",
     "prev": "0dc74fe2-c06e-43b7-a926-fc92a1114752",
     "regions": {
      "36e2da0f-fc99-48fc-9ca3-cc97236dda71": {
       "attrs": {
        "height": 0.8,
        "width": 0.8,
        "x": 0.1,
        "y": 0.1
       },
       "content": {
        "cell": "696217af-9c2d-4e50-9650-109067aa8f33",
        "part": "whole"
       },
       "id": "36e2da0f-fc99-48fc-9ca3-cc97236dda71"
      }
     }
    },
    "e2c43e58-ac6a-4ed0-9658-5cf3b7bbef8a": {
     "id": "e2c43e58-ac6a-4ed0-9658-5cf3b7bbef8a",
     "prev": "bdbf7828-4601-4131-bcf5-a6b7cca927f6",
     "regions": {
      "3a94ad28-6f8b-4a53-af9b-19e754b54e32": {
       "attrs": {
        "height": 0.8,
        "width": 0.8,
        "x": 0.1,
        "y": 0.1
       },
       "content": {
        "cell": "5afa0a56-9c91-47da-a318-55206a08339b",
        "part": "whole"
       },
       "id": "3a94ad28-6f8b-4a53-af9b-19e754b54e32"
      }
     }
    },
    "e4e01df2-7970-4d31-9d31-f823297654d7": {
     "id": "e4e01df2-7970-4d31-9d31-f823297654d7",
     "prev": "566e552b-2d14-409d-9a03-562f8c9213d8",
     "regions": {
      "58ec10c5-f2d9-416c-b1f4-b4ee36d0516c": {
       "attrs": {
        "height": 0.8,
        "width": 0.8,
        "x": 0.1,
        "y": 0.1
       },
       "content": {
        "cell": "0547475a-b97e-47c4-9d17-d351e2655ca3",
        "part": "whole"
       },
       "id": "58ec10c5-f2d9-416c-b1f4-b4ee36d0516c"
      }
     }
    },
    "e7e338cf-3583-421a-99fa-ef126083d00e": {
     "id": "e7e338cf-3583-421a-99fa-ef126083d00e",
     "prev": "557adc96-14ea-4887-863d-7bf3a6a24d87",
     "regions": {
      "ad750d72-d5d2-4ab8-a0b6-86ea6557398f": {
       "attrs": {
        "height": 0.8,
        "width": 0.8,
        "x": 0.1,
        "y": 0.1
       },
       "content": {
        "cell": "1747c7fa-0e03-4cd6-a87c-fe87b93043f3",
        "part": "whole"
       },
       "id": "ad750d72-d5d2-4ab8-a0b6-86ea6557398f"
      }
     }
    },
    "e93a7535-67e2-4e2f-95c3-9d659b11594d": {
     "id": "e93a7535-67e2-4e2f-95c3-9d659b11594d",
     "prev": "bb621ff8-788f-4ab7-8451-1bdf2dc2a541",
     "regions": {
      "7d8905c7-f887-4765-9ade-1731e13e0ae6": {
       "attrs": {
        "height": 0.8,
        "width": 0.8,
        "x": 0.1,
        "y": 0.1
       },
       "content": {
        "cell": "ac8ea603-1414-4bfa-b00b-a74490e28c75",
        "part": "whole"
       },
       "id": "7d8905c7-f887-4765-9ade-1731e13e0ae6"
      }
     }
    },
    "ea7952d8-0b9c-422f-9b30-2e627feacf23": {
     "id": "ea7952d8-0b9c-422f-9b30-2e627feacf23",
     "prev": "1488b5ab-1e5a-4752-be1e-73cc6606e788",
     "regions": {
      "86b2a6ca-1038-4ef8-8a8a-e04062042c90": {
       "attrs": {
        "height": 0.8,
        "width": 0.8,
        "x": 0.1,
        "y": 0.1
       },
       "content": {
        "cell": "c0c27686-6090-443e-ad28-cd6531e589e9",
        "part": "whole"
       },
       "id": "86b2a6ca-1038-4ef8-8a8a-e04062042c90"
      }
     }
    },
    "ebe68802-be03-4cc9-ac27-a8d751915c50": {
     "id": "ebe68802-be03-4cc9-ac27-a8d751915c50",
     "prev": "d3bdba90-3262-42d4-ae91-95b15502559e",
     "regions": {
      "8271f696-0b69-4210-ba33-fb738a6db496": {
       "attrs": {
        "height": 0.8,
        "width": 0.8,
        "x": 0.1,
        "y": 0.1
       },
       "content": {
        "cell": "f949ee00-de6d-4924-81fd-3897572395a3",
        "part": "whole"
       },
       "id": "8271f696-0b69-4210-ba33-fb738a6db496"
      }
     }
    },
    "ece4b3d4-6016-4555-a1ff-c32a78d7f71f": {
     "id": "ece4b3d4-6016-4555-a1ff-c32a78d7f71f",
     "prev": "a4b12d23-9ca9-4860-b8f1-1d7dc9256d53",
     "regions": {
      "d604806f-8527-4349-8e0a-ba304c13ac5a": {
       "attrs": {
        "height": 0.8,
        "width": 0.8,
        "x": 0.1,
        "y": 0.1
       },
       "content": {
        "cell": "c57eb9eb-d100-40f5-a9bb-85957d62e8ee",
        "part": "whole"
       },
       "id": "d604806f-8527-4349-8e0a-ba304c13ac5a"
      }
     }
    },
    "ed331af9-9e42-446c-8f4b-b274f64152c7": {
     "id": "ed331af9-9e42-446c-8f4b-b274f64152c7",
     "prev": "1c5b99d7-ac32-42d4-850a-c29990eefed2",
     "regions": {
      "db3163d1-0084-40a6-88b4-7e5764f55929": {
       "attrs": {
        "height": 0.8,
        "width": 0.8,
        "x": 0.1,
        "y": 0.1
       },
       "content": {
        "cell": "ebd72b6f-ab88-497a-a8d3-0c1c5f16b70b",
        "part": "whole"
       },
       "id": "db3163d1-0084-40a6-88b4-7e5764f55929"
      }
     }
    },
    "f05887f6-e6a1-4b57-b3e7-9c1990dc9ed5": {
     "id": "f05887f6-e6a1-4b57-b3e7-9c1990dc9ed5",
     "prev": "ed331af9-9e42-446c-8f4b-b274f64152c7",
     "regions": {
      "ee0de37e-f220-42f0-b674-e87d3b305a16": {
       "attrs": {
        "height": 0.8,
        "width": 0.8,
        "x": 0.1,
        "y": 0.1
       },
       "content": {
        "cell": "6d443a4f-1763-4f6e-96c1-661e2ba6c7bd",
        "part": "whole"
       },
       "id": "ee0de37e-f220-42f0-b674-e87d3b305a16"
      }
     }
    },
    "f085ca31-e716-40d9-aee9-613395e52421": {
     "id": "f085ca31-e716-40d9-aee9-613395e52421",
     "prev": "3328f9bd-e196-4581-8953-580587bc029d",
     "regions": {
      "f2b15617-0fb2-4f4e-9ad4-ccc3adbf0253": {
       "attrs": {
        "height": 0.8,
        "width": 0.8,
        "x": 0.1,
        "y": 0.1
       },
       "content": {
        "cell": "5777756f-3a24-4e9a-8883-a7d332da33e5",
        "part": "whole"
       },
       "id": "f2b15617-0fb2-4f4e-9ad4-ccc3adbf0253"
      }
     }
    },
    "f2bd4117-bad1-454a-9ec3-beae92148779": {
     "id": "f2bd4117-bad1-454a-9ec3-beae92148779",
     "prev": "2df35588-320e-41aa-8b0b-f00993e7bb51",
     "regions": {
      "b8e5b380-0fb2-40c6-acbc-d7a556d92253": {
       "attrs": {
        "height": 0.8,
        "width": 0.8,
        "x": 0.1,
        "y": 0.1
       },
       "content": {
        "cell": "6d7438b2-0fa9-4c1e-8958-46c153d7dd04",
        "part": "whole"
       },
       "id": "b8e5b380-0fb2-40c6-acbc-d7a556d92253"
      }
     }
    },
    "fab0b087-a637-4ae3-9be8-8184617efa4e": {
     "id": "fab0b087-a637-4ae3-9be8-8184617efa4e",
     "prev": "c56c385d-0156-4afb-a8a6-aaecc0ca89fd",
     "regions": {
      "564c33e4-ce38-47a2-9fb8-82aba8f2deda": {
       "attrs": {
        "height": 0.8,
        "width": 0.8,
        "x": 0.1,
        "y": 0.1
       },
       "content": {
        "cell": "bf72536e-2ab6-4f74-96c3-33dcd787573f",
        "part": "whole"
       },
       "id": "564c33e4-ce38-47a2-9fb8-82aba8f2deda"
      }
     }
    },
    "fe9453c4-9c87-4f94-9ddc-13cfe4aabf8b": {
     "id": "fe9453c4-9c87-4f94-9ddc-13cfe4aabf8b",
     "prev": "0e4fca0d-f2e6-4f93-b9eb-b9e74a3c097f",
     "regions": {
      "761670a0-41ec-44ba-b75f-1a4de0faa195": {
       "attrs": {
        "height": 0.8,
        "width": 0.8,
        "x": 0.1,
        "y": 0.1
       },
       "content": {
        "cell": "b63ce27e-ef9c-4f57-a349-77479bc1b311",
        "part": "whole"
       },
       "id": "761670a0-41ec-44ba-b75f-1a4de0faa195"
      }
     }
    }
   },
   "themes": {}
  },
  "widgets": {
   "state": {
    "f5b2b5feaca3477d8363e62ec270ce1a": {
     "views": [
      {
       "cell_index": 24
      }
     ]
    }
   },
   "version": "1.2.0"
  }
 },
 "nbformat": 4,
 "nbformat_minor": 2
}
